{
 "cells": [
  {
   "cell_type": "code",
   "execution_count": 1,
   "id": "2338a136",
   "metadata": {},
   "outputs": [
    {
     "name": "stderr",
     "output_type": "stream",
     "text": [
      "WARNING (theano.configdefaults): g++ not available, if using conda: `conda install m2w64-toolchain`\n",
      "C:\\Users\\morit\\anaconda3\\envs\\gemgis\\lib\\site-packages\\theano\\configdefaults.py:560: UserWarning: DeprecationWarning: there is no c++ compiler.This is deprecated and with Theano 0.11 a c++ compiler will be mandatory\n",
      "  warnings.warn(\"DeprecationWarning: there is no c++ compiler.\"\n",
      "WARNING (theano.configdefaults): g++ not detected ! Theano will be unable to execute optimized C-implementations (for both CPU and GPU) and will default to Python implementations. Performance will be severely degraded. To remove this warning, set Theano flags cxx to an empty string.\n",
      "WARNING (theano.tensor.blas): Using NumPy C-API based implementation for BLAS functions.\n"
     ]
    }
   ],
   "source": [
    "%matplotlib inline\n",
    "import scipy\n",
    "import gempy as gp\n",
    "import geopandas as gpd\n",
    "import os\n",
    "import pyvista \n",
    "import rasterio\n",
    "import gemgis as gg\n",
    "import numpy as np\n",
    "import pandas as pd\n",
    "import matplotlib.pyplot as plt\n",
    "from mpl_toolkits.axes_grid1 import make_axes_locatable\n",
    "from pyvista import set_plot_theme\n",
    "import matplotlib.image as mpimg"
   ]
  },
  {
   "cell_type": "code",
   "execution_count": 2,
   "id": "42f564c0",
   "metadata": {},
   "outputs": [
    {
     "name": "stdout",
     "output_type": "stream",
     "text": [
      "Active grids: ['regular']\n",
      "Setting kriging parameters to their default values.\n",
      "Compiling theano function...\n",
      "Level of Optimization:  fast_compile\n",
      "Device:  cpu\n",
      "Precision:  float64\n",
      "Number of faults:  0\n",
      "Compilation Done!\n",
      "Kriging values: \n",
      "                   values\n",
      "range            1431.82\n",
      "$C_o$           48811.90\n",
      "drift equations   [3, 3]\n"
     ]
    },
    {
     "data": {
      "text/html": [
       "<table border=\"1\" class=\"dataframe\">\n",
       "  <thead>\n",
       "    <tr style=\"text-align: right;\">\n",
       "      <th></th>\n",
       "      <th>order_series</th>\n",
       "      <th>BottomRelation</th>\n",
       "      <th>isActive</th>\n",
       "      <th>isFault</th>\n",
       "      <th>isFinite</th>\n",
       "    </tr>\n",
       "  </thead>\n",
       "  <tbody>\n",
       "    <tr>\n",
       "      <th>Fault</th>\n",
       "      <td>1</td>\n",
       "      <td>Erosion</td>\n",
       "      <td>True</td>\n",
       "      <td>False</td>\n",
       "      <td>False</td>\n",
       "    </tr>\n",
       "    <tr>\n",
       "      <th>Default series</th>\n",
       "      <td>2</td>\n",
       "      <td>Erosion</td>\n",
       "      <td>True</td>\n",
       "      <td>False</td>\n",
       "      <td>False</td>\n",
       "    </tr>\n",
       "    <tr>\n",
       "      <th>Basement</th>\n",
       "      <td>3</td>\n",
       "      <td>Erosion</td>\n",
       "      <td>False</td>\n",
       "      <td>False</td>\n",
       "      <td>False</td>\n",
       "    </tr>\n",
       "  </tbody>\n",
       "</table>"
      ],
      "text/plain": [
       "                order_series BottomRelation  isActive  isFault  isFinite\n",
       "Fault                      1        Erosion      True    False     False\n",
       "Default series             2        Erosion      True    False     False\n",
       "Basement                   3        Erosion     False    False     False"
      ]
     },
     "execution_count": 2,
     "metadata": {},
     "output_type": "execute_result"
    }
   ],
   "source": [
    "data_path= 'https://raw.githubusercontent.com/Mo34843279347/Sandstone_Mountains/main/'\n",
    "geo_model = gp.create_model('ES_model')\n",
    "geo_model = gp.init_data(geo_model, extent=[0, 1000, 0, 490, -400, 500], resolution=[100, 10, 100],\n",
    "                        path_o= data_path+ 'orientations.csv',\n",
    "                        path_i= data_path+ 'surface_points.csv')\n",
    "gp.set_interpolator(geo_model, theano_optimizer='fast_compile', verbose=[])\n",
    "gp.map_stack_to_surfaces(geo_model, {'Fault':'Fault'})\n",
    "geo_model.reorder_features(['Fault','Default series', 'Basement'])"
   ]
  },
  {
   "cell_type": "code",
   "execution_count": 3,
   "id": "dd790991",
   "metadata": {},
   "outputs": [
    {
     "name": "stdout",
     "output_type": "stream",
     "text": [
      "Active grids: ['regular' 'topography']\n",
      "Setting kriging parameters to their default values.\n",
      "Compiling theano function...\n",
      "Level of Optimization:  fast_compile\n",
      "Device:  cpu\n",
      "Precision:  float64\n",
      "Number of faults:  0\n",
      "Compilation Done!\n",
      "Kriging values: \n",
      "                     values\n",
      "range              1431.82\n",
      "$C_o$             48811.90\n",
      "drift equations  [3, 3, 3]\n"
     ]
    },
    {
     "name": "stderr",
     "output_type": "stream",
     "text": [
      "C:\\Users\\morit\\anaconda3\\envs\\gemgis\\lib\\site-packages\\gempy\\core\\solution.py:174: VisibleDeprecationWarning: Creating an ndarray from ragged nested sequences (which is a list-or-tuple of lists-or-tuples-or ndarrays with different lengths or shapes) is deprecated. If you meant to do this, you must specify 'dtype=object' when creating the ndarray.\n",
      "  self.geological_map = np.array(\n"
     ]
    },
    {
     "data": {
      "text/html": [
       "<style type=\"text/css\">\n",
       "#T_b35c7_row0_col3 {\n",
       "  background-color: #ff3f20;\n",
       "}\n",
       "#T_b35c7_row1_col3 {\n",
       "  background-color: #443988;\n",
       "}\n",
       "#T_b35c7_row2_col3 {\n",
       "  background-color: #728f02;\n",
       "}\n",
       "#T_b35c7_row3_col3 {\n",
       "  background-color: #015482;\n",
       "}\n",
       "#T_b35c7_row4_col3 {\n",
       "  background-color: #ffbe00;\n",
       "}\n",
       "#T_b35c7_row5_col3 {\n",
       "  background-color: #9f0052;\n",
       "}\n",
       "#T_b35c7_row6_col3 {\n",
       "  background-color: #5DA629;\n",
       "}\n",
       "</style>\n",
       "<table id=\"T_b35c7_\">\n",
       "  <thead>\n",
       "    <tr>\n",
       "      <th class=\"blank level0\" >&nbsp;</th>\n",
       "      <th class=\"col_heading level0 col0\" >surface</th>\n",
       "      <th class=\"col_heading level0 col1\" >series</th>\n",
       "      <th class=\"col_heading level0 col2\" >order_surfaces</th>\n",
       "      <th class=\"col_heading level0 col3\" >color</th>\n",
       "      <th class=\"col_heading level0 col4\" >id</th>\n",
       "    </tr>\n",
       "  </thead>\n",
       "  <tbody>\n",
       "    <tr>\n",
       "      <th id=\"T_b35c7_level0_row0\" class=\"row_heading level0 row0\" >5</th>\n",
       "      <td id=\"T_b35c7_row0_col0\" class=\"data row0 col0\" >Fault</td>\n",
       "      <td id=\"T_b35c7_row0_col1\" class=\"data row0 col1\" >Fault</td>\n",
       "      <td id=\"T_b35c7_row0_col2\" class=\"data row0 col2\" >1</td>\n",
       "      <td id=\"T_b35c7_row0_col3\" class=\"data row0 col3\" >#ff3f20</td>\n",
       "      <td id=\"T_b35c7_row0_col4\" class=\"data row0 col4\" >1</td>\n",
       "    </tr>\n",
       "    <tr>\n",
       "      <th id=\"T_b35c7_level0_row1\" class=\"row_heading level0 row1\" >4</th>\n",
       "      <td id=\"T_b35c7_row1_col0\" class=\"data row1 col0\" >surface5</td>\n",
       "      <td id=\"T_b35c7_row1_col1\" class=\"data row1 col1\" >Default series</td>\n",
       "      <td id=\"T_b35c7_row1_col2\" class=\"data row1 col2\" >1</td>\n",
       "      <td id=\"T_b35c7_row1_col3\" class=\"data row1 col3\" >#443988</td>\n",
       "      <td id=\"T_b35c7_row1_col4\" class=\"data row1 col4\" >2</td>\n",
       "    </tr>\n",
       "    <tr>\n",
       "      <th id=\"T_b35c7_level0_row2\" class=\"row_heading level0 row2\" >3</th>\n",
       "      <td id=\"T_b35c7_row2_col0\" class=\"data row2 col0\" >surface4</td>\n",
       "      <td id=\"T_b35c7_row2_col1\" class=\"data row2 col1\" >Default series</td>\n",
       "      <td id=\"T_b35c7_row2_col2\" class=\"data row2 col2\" >2</td>\n",
       "      <td id=\"T_b35c7_row2_col3\" class=\"data row2 col3\" >#728f02</td>\n",
       "      <td id=\"T_b35c7_row2_col4\" class=\"data row2 col4\" >3</td>\n",
       "    </tr>\n",
       "    <tr>\n",
       "      <th id=\"T_b35c7_level0_row3\" class=\"row_heading level0 row3\" >0</th>\n",
       "      <td id=\"T_b35c7_row3_col0\" class=\"data row3 col0\" >surface1</td>\n",
       "      <td id=\"T_b35c7_row3_col1\" class=\"data row3 col1\" >Default series</td>\n",
       "      <td id=\"T_b35c7_row3_col2\" class=\"data row3 col2\" >3</td>\n",
       "      <td id=\"T_b35c7_row3_col3\" class=\"data row3 col3\" >#015482</td>\n",
       "      <td id=\"T_b35c7_row3_col4\" class=\"data row3 col4\" >4</td>\n",
       "    </tr>\n",
       "    <tr>\n",
       "      <th id=\"T_b35c7_level0_row4\" class=\"row_heading level0 row4\" >2</th>\n",
       "      <td id=\"T_b35c7_row4_col0\" class=\"data row4 col0\" >surface3</td>\n",
       "      <td id=\"T_b35c7_row4_col1\" class=\"data row4 col1\" >Default series</td>\n",
       "      <td id=\"T_b35c7_row4_col2\" class=\"data row4 col2\" >4</td>\n",
       "      <td id=\"T_b35c7_row4_col3\" class=\"data row4 col3\" >#ffbe00</td>\n",
       "      <td id=\"T_b35c7_row4_col4\" class=\"data row4 col4\" >5</td>\n",
       "    </tr>\n",
       "    <tr>\n",
       "      <th id=\"T_b35c7_level0_row5\" class=\"row_heading level0 row5\" >1</th>\n",
       "      <td id=\"T_b35c7_row5_col0\" class=\"data row5 col0\" >surface2</td>\n",
       "      <td id=\"T_b35c7_row5_col1\" class=\"data row5 col1\" >Default series</td>\n",
       "      <td id=\"T_b35c7_row5_col2\" class=\"data row5 col2\" >5</td>\n",
       "      <td id=\"T_b35c7_row5_col3\" class=\"data row5 col3\" >#9f0052</td>\n",
       "      <td id=\"T_b35c7_row5_col4\" class=\"data row5 col4\" >6</td>\n",
       "    </tr>\n",
       "    <tr>\n",
       "      <th id=\"T_b35c7_level0_row6\" class=\"row_heading level0 row6\" >6</th>\n",
       "      <td id=\"T_b35c7_row6_col0\" class=\"data row6 col0\" >basement</td>\n",
       "      <td id=\"T_b35c7_row6_col1\" class=\"data row6 col1\" >Basement</td>\n",
       "      <td id=\"T_b35c7_row6_col2\" class=\"data row6 col2\" >1</td>\n",
       "      <td id=\"T_b35c7_row6_col3\" class=\"data row6 col3\" >#5DA629</td>\n",
       "      <td id=\"T_b35c7_row6_col4\" class=\"data row6 col4\" >7</td>\n",
       "    </tr>\n",
       "  </tbody>\n",
       "</table>\n"
      ],
      "text/plain": [
       "    surface          series  order_surfaces    color  id\n",
       "5     Fault           Fault               1  #ff3f20   1\n",
       "4  surface5  Default series               1  #443988   2\n",
       "3  surface4  Default series               2  #728f02   3\n",
       "0  surface1  Default series               3  #015482   4\n",
       "2  surface3  Default series               4  #ffbe00   5\n",
       "1  surface2  Default series               5  #9f0052   6\n",
       "6  basement        Basement               1  #5DA629   7"
      ]
     },
     "execution_count": 3,
     "metadata": {},
     "output_type": "execute_result"
    }
   ],
   "source": [
    "geo_model.set_topography(source='random', fd=1.9, d_z=np.array([0, 250]),\n",
    "                         resolution=np.array([100, 49]))\n",
    "gp.set_interpolator(geo_model)\n",
    "gp.compute_model(geo_model, compute_mesh=False, set_solutions=True)\n",
    "geo_model._grid.topography.save('Random_topo')\n",
    "geo_model.surfaces"
   ]
  },
  {
   "cell_type": "markdown",
   "id": "8a7d0121",
   "metadata": {},
   "source": [
    "# Topography"
   ]
  },
  {
   "cell_type": "code",
   "execution_count": 4,
   "id": "10e41806",
   "metadata": {},
   "outputs": [
    {
     "data": {
      "text/plain": [
       "(490, 1000)"
      ]
     },
     "execution_count": 4,
     "metadata": {},
     "output_type": "execute_result"
    }
   ],
   "source": [
    "raster_original = np.genfromtxt('Raster.csv', delimiter=',')\n",
    "new_topo= np.load('Random_topo.npy')\n",
    "np.shape(raster_original)"
   ]
  },
  {
   "cell_type": "code",
   "execution_count": 6,
   "id": "98c278c9",
   "metadata": {},
   "outputs": [],
   "source": [
    "#set height values from orignal raster to random topo\n",
    "raster_original_cut= raster_original[::10,::10]\n",
    "height= np.reshape(raster_original_cut, (100,49,1))\n",
    "new_topo[:,:,2:3]= height\n",
    "np.save('raster_original_cut',new_topo)\n"
   ]
  },
  {
   "cell_type": "code",
   "execution_count": 7,
   "id": "c10a02bd",
   "metadata": {},
   "outputs": [
    {
     "name": "stdout",
     "output_type": "stream",
     "text": [
      "Active grids: ['regular' 'topography']\n",
      "Setting kriging parameters to their default values.\n",
      "Compiling theano function...\n",
      "Level of Optimization:  fast_compile\n",
      "Device:  cpu\n",
      "Precision:  float64\n",
      "Number of faults:  0\n",
      "Compilation Done!\n",
      "Kriging values: \n",
      "                     values\n",
      "range              1431.82\n",
      "$C_o$             48811.90\n",
      "drift equations  [3, 3, 3]\n"
     ]
    },
    {
     "name": "stderr",
     "output_type": "stream",
     "text": [
      "C:\\Users\\morit\\anaconda3\\envs\\gemgis\\lib\\site-packages\\gempy\\core\\solution.py:174: VisibleDeprecationWarning: Creating an ndarray from ragged nested sequences (which is a list-or-tuple of lists-or-tuples-or ndarrays with different lengths or shapes) is deprecated. If you meant to do this, you must specify 'dtype=object' when creating the ndarray.\n",
      "  self.geological_map = np.array(\n",
      "C:\\Users\\morit\\anaconda3\\envs\\gemgis\\lib\\site-packages\\pyvista\\plotting\\plotting.py:1354: PyvistaDeprecationWarning: \n",
      "\"stitle\" is a depreciated keyword and will be removed in a future\n",
      "release.\n",
      "\n",
      "Use ``scalar_bar_args`` instead.  For example:\n",
      "\n",
      "scalar_bar_args={'title': 'Scalar Bar Title'}\n",
      "\n",
      "  warnings.warn(USE_SCALAR_BAR_ARGS, PyvistaDeprecationWarning)\n"
     ]
    }
   ],
   "source": [
    "#set new topography\n",
    "geo_model.set_topography(source='saved', filepath='raster_original_cut.npy')\n",
    "gp.set_interpolator(geo_model)\n",
    "gp.compute_model(geo_model, compute_mesh=False, set_solutions=True)\n",
    "\n",
    "gp.compute_model(geo_model)\n",
    "geo_model.additional_data.kriging_data\n",
    "geo_model.additional_data.rescaling_data\n",
    "\n",
    "#show model\n",
    "g3d = gp.plot_3d(geo_model,\n",
    "                 plotter_type='background',\n",
    "                 show_topography=True,\n",
    "                 show_lith=True,\n",
    "                 show_surfaces=True,\n",
    "                 kwargs_plot_structured_grid={'opacity': .15},\n",
    "                 ve=1, \n",
    "                 off_screen=False)"
   ]
  },
  {
   "cell_type": "code",
   "execution_count": null,
   "id": "ebfa31e5",
   "metadata": {},
   "outputs": [],
   "source": []
  },
  {
   "cell_type": "code",
   "execution_count": null,
   "id": "65a5a5e9",
   "metadata": {},
   "outputs": [],
   "source": []
  },
  {
   "cell_type": "code",
   "execution_count": null,
   "id": "84f249e8",
   "metadata": {},
   "outputs": [],
   "source": []
  },
  {
   "cell_type": "code",
   "execution_count": null,
   "id": "5f7db78b",
   "metadata": {},
   "outputs": [],
   "source": []
  }
 ],
 "metadata": {
  "kernelspec": {
   "display_name": "Python 3 (ipykernel)",
   "language": "python",
   "name": "python3"
  },
  "language_info": {
   "codemirror_mode": {
    "name": "ipython",
    "version": 3
   },
   "file_extension": ".py",
   "mimetype": "text/x-python",
   "name": "python",
   "nbconvert_exporter": "python",
   "pygments_lexer": "ipython3",
   "version": "3.9.0"
  }
 },
 "nbformat": 4,
 "nbformat_minor": 5
}
